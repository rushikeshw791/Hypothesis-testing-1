{
  "nbformat": 4,
  "nbformat_minor": 0,
  "metadata": {
    "colab": {
      "provenance": [],
      "collapsed_sections": [],
      "authorship_tag": "ABX9TyMhNtqHPCBBEff7cSE4jT3s",
      "include_colab_link": true
    },
    "kernelspec": {
      "name": "python3",
      "display_name": "Python 3"
    },
    "language_info": {
      "name": "python"
    }
  },
  "cells": [
    {
      "cell_type": "markdown",
      "metadata": {
        "id": "view-in-github",
        "colab_type": "text"
      },
      "source": [
        "<a href=\"https://colab.research.google.com/github/rushikeshw791/hypothesis-testing-1/blob/main/Assign3Q1.ipynb\" target=\"_parent\"><img src=\"https://colab.research.google.com/assets/colab-badge.svg\" alt=\"Open In Colab\"/></a>"
      ]
    },
    {
      "cell_type": "markdown",
      "source": [
        "Assignment-03-Q1 (Hypothesis Testing)\n"
      ],
      "metadata": {
        "id": "F0AXDD4mg2g2"
      }
    },
    {
      "cell_type": "code",
      "execution_count": 1,
      "metadata": {
        "id": "I35YH37ugwf5"
      },
      "outputs": [],
      "source": [
        "import pandas as pd\n",
        "import numpy as np\n",
        "from scipy import stats"
      ]
    },
    {
      "cell_type": "code",
      "source": [
        "# load the dataset\n",
        "data=pd.read_csv('https://github.com/rushikeshw791/hypothesis-testing-1/files/9691935/Cutlets.csv')\n",
        "data.head()"
      ],
      "metadata": {
        "id": "o5cJzfmzg_lK"
      },
      "execution_count": null,
      "outputs": []
    },
    {
      "cell_type": "code",
      "source": [
        "unit_a=pd.Series(data.iloc[:,0])\n",
        "unit_a"
      ],
      "metadata": {
        "id": "2zeX6vHwhdIG"
      },
      "execution_count": null,
      "outputs": []
    },
    {
      "cell_type": "code",
      "source": [
        "unit_b=pd.Series(data.iloc[:,1])\n",
        "unit_b"
      ],
      "metadata": {
        "id": "Vs8SeVfuiJAy"
      },
      "execution_count": null,
      "outputs": []
    },
    {
      "cell_type": "code",
      "source": [
        "# 2-sample 2-tail ttest:   stats.ttest_ind(array1,array2)     # ind -> independent samples\n",
        "p_value=stats.ttest_ind(unit_a,unit_b)\n",
        "p_value"
      ],
      "metadata": {
        "id": "EaT77zKniXeo"
      },
      "execution_count": null,
      "outputs": []
    },
    {
      "cell_type": "code",
      "source": [
        "p_value[1]     # 2-tail probability "
      ],
      "metadata": {
        "id": "-wFWWo6Sic5A"
      },
      "execution_count": null,
      "outputs": []
    },
    {
      "cell_type": "code",
      "source": [
        "# compare p_value with α = 0.05 (At 5% significance level)"
      ],
      "metadata": {
        "id": "Cuzkl4khilUI"
      },
      "execution_count": 9,
      "outputs": []
    },
    {
      "cell_type": "code",
      "source": [],
      "metadata": {
        "id": "lMN86Ljcio9e"
      },
      "execution_count": null,
      "outputs": []
    }
  ]
}